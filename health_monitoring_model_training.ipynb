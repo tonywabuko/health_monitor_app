{
 "cells": [
  {
   "cell_type": "code",
   "execution_count": null,
   "id": "dc4df9fa",
   "metadata": {},
   "outputs": [],
   "source": [
    "import pandas as pd\n",
    "import numpy as np\n",
    "from sklearn.ensemble import IsolationForest\n",
    "import matplotlib.pyplot as plt\n",
    "import seaborn as sns\n",
    "import joblib\n"
   ]
  },
  {
   "cell_type": "code",
   "execution_count": null,
   "id": "04f93f41",
   "metadata": {},
   "outputs": [],
   "source": [
    "np.random.seed(42)\n",
    "n_samples = 300\n",
    "\n",
    "heart_rate = np.random.normal(loc=75, scale=10, size=n_samples)\n",
    "spo2 = np.random.normal(loc=98, scale=1.5, size=n_samples)\n",
    "temperature = np.random.normal(loc=36.8, scale=0.4, size=n_samples)\n",
    "\n",
    "# Inject anomalies\n",
    "heart_rate[::30] = np.random.uniform(30, 50, size=10)\n",
    "spo2[::25] = np.random.uniform(80, 90, size=12)\n",
    "temperature[::20] = np.random.uniform(38.5, 40, size=15)\n",
    "\n",
    "df = pd.DataFrame({\n",
    "    'heart_rate': heart_rate,\n",
    "    'spO2': spo2,\n",
    "    'temperature': temperature\n",
    "})\n",
    "df.head()\n"
   ]
  },
  {
   "cell_type": "code",
   "execution_count": null,
   "id": "906e1def",
   "metadata": {},
   "outputs": [],
   "source": [
    "model = IsolationForest(contamination=0.1, random_state=42)\n",
    "model.fit(df)\n",
    "df['anomaly'] = model.predict(df)\n",
    "df['anomaly'] = df['anomaly'].map({1: 0, -1: 1})  # 1 = anomaly\n",
    "df.head()\n"
   ]
  },
  {
   "cell_type": "code",
   "execution_count": null,
   "id": "8bedfc17",
   "metadata": {},
   "outputs": [],
   "source": [
    "sns.pairplot(df, hue='anomaly', palette='coolwarm')\n",
    "plt.suptitle(\"Anomaly Detection with Isolation Forest\", y=1.02)\n",
    "plt.show()\n"
   ]
  },
  {
   "cell_type": "code",
   "execution_count": null,
   "id": "6e1b8ec5",
   "metadata": {},
   "outputs": [],
   "source": [
    "joblib.dump(model, \"anomaly.pkl\")\n"
   ]
  }
 ],
 "metadata": {},
 "nbformat": 4,
 "nbformat_minor": 5
}
